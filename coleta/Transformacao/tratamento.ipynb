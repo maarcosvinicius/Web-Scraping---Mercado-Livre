{
 "cells": [
  {
   "cell_type": "markdown",
   "metadata": {},
   "source": [
    "#### BIBLIOTECAS"
   ]
  },
  {
   "cell_type": "code",
   "execution_count": 2,
   "metadata": {},
   "outputs": [],
   "source": [
    "import pandas as pd\n",
    "import sqlite3\n",
    "from datetime import datetime"
   ]
  },
  {
   "cell_type": "markdown",
   "metadata": {},
   "source": [
    "#### LENDO OS DADOS"
   ]
  },
  {
   "cell_type": "code",
   "execution_count": 5,
   "metadata": {},
   "outputs": [],
   "source": [
    "df = pd.read_json(\n",
    "    r'C:\\Users\\marco\\OneDrive\\Documentos\\Projetos\\Python\\Web Scraping - Mercado Livre\\coleta\\..dados\\bd.jsonl', lines=True)"
   ]
  },
  {
   "cell_type": "code",
   "execution_count": 10,
   "metadata": {},
   "outputs": [
    {
     "data": {
      "text/html": [
       "<div>\n",
       "<style scoped>\n",
       "    .dataframe tbody tr th:only-of-type {\n",
       "        vertical-align: middle;\n",
       "    }\n",
       "\n",
       "    .dataframe tbody tr th {\n",
       "        vertical-align: top;\n",
       "    }\n",
       "\n",
       "    .dataframe thead th {\n",
       "        text-align: right;\n",
       "    }\n",
       "</style>\n",
       "<table border=\"1\" class=\"dataframe\">\n",
       "  <thead>\n",
       "    <tr style=\"text-align: right;\">\n",
       "      <th></th>\n",
       "      <th>marca</th>\n",
       "      <th>nome</th>\n",
       "      <th>preco_antigo_reais</th>\n",
       "      <th>preco_antigo_centavos</th>\n",
       "      <th>preco_novo_reais</th>\n",
       "      <th>preco_novo_centavos</th>\n",
       "      <th>reviews_rating_number</th>\n",
       "      <th>reviews_amount</th>\n",
       "    </tr>\n",
       "  </thead>\n",
       "  <tbody>\n",
       "    <tr>\n",
       "      <th>0</th>\n",
       "      <td>OLYMPIKUS</td>\n",
       "      <td>Olympikus Express Masculino Adultos</td>\n",
       "      <td>274.000</td>\n",
       "      <td>99</td>\n",
       "      <td>217</td>\n",
       "      <td>79.0</td>\n",
       "      <td>4.7</td>\n",
       "      <td>(241)</td>\n",
       "    </tr>\n",
       "    <tr>\n",
       "      <th>1</th>\n",
       "      <td>OLYMPIKUS</td>\n",
       "      <td>Olympikus 24/7 Lap Masculino Adultos</td>\n",
       "      <td>218.000</td>\n",
       "      <td>74</td>\n",
       "      <td>139</td>\n",
       "      <td>99.0</td>\n",
       "      <td>4.8</td>\n",
       "      <td>(7829)</td>\n",
       "    </tr>\n",
       "    <tr>\n",
       "      <th>2</th>\n",
       "      <td>REEBOK</td>\n",
       "      <td>Reebok Zig Dynamica 4 Masculino Adultos</td>\n",
       "      <td>1.099</td>\n",
       "      <td>64</td>\n",
       "      <td>106</td>\n",
       "      <td>NaN</td>\n",
       "      <td>NaN</td>\n",
       "      <td>None</td>\n",
       "    </tr>\n",
       "    <tr>\n",
       "      <th>3</th>\n",
       "      <td>OLYMPIKUS</td>\n",
       "      <td>Olympikus 24/7 Lap Masculino Adultos</td>\n",
       "      <td>218.000</td>\n",
       "      <td>74</td>\n",
       "      <td>139</td>\n",
       "      <td>99.0</td>\n",
       "      <td>4.8</td>\n",
       "      <td>(7829)</td>\n",
       "    </tr>\n",
       "    <tr>\n",
       "      <th>4</th>\n",
       "      <td>REEBOK</td>\n",
       "      <td>Reebok Zig Dynamica 4 Masculino Adultos</td>\n",
       "      <td>1.099</td>\n",
       "      <td>64</td>\n",
       "      <td>106</td>\n",
       "      <td>NaN</td>\n",
       "      <td>NaN</td>\n",
       "      <td>None</td>\n",
       "    </tr>\n",
       "  </tbody>\n",
       "</table>\n",
       "</div>"
      ],
      "text/plain": [
       "       marca                                     nome  preco_antigo_reais  \\\n",
       "0  OLYMPIKUS      Olympikus Express Masculino Adultos             274.000   \n",
       "1  OLYMPIKUS     Olympikus 24/7 Lap Masculino Adultos             218.000   \n",
       "2     REEBOK  Reebok Zig Dynamica 4 Masculino Adultos               1.099   \n",
       "3  OLYMPIKUS     Olympikus 24/7 Lap Masculino Adultos             218.000   \n",
       "4     REEBOK  Reebok Zig Dynamica 4 Masculino Adultos               1.099   \n",
       "\n",
       "   preco_antigo_centavos  preco_novo_reais  preco_novo_centavos  \\\n",
       "0                     99               217                 79.0   \n",
       "1                     74               139                 99.0   \n",
       "2                     64               106                  NaN   \n",
       "3                     74               139                 99.0   \n",
       "4                     64               106                  NaN   \n",
       "\n",
       "   reviews_rating_number reviews_amount  \n",
       "0                    4.7          (241)  \n",
       "1                    4.8         (7829)  \n",
       "2                    NaN           None  \n",
       "3                    4.8         (7829)  \n",
       "4                    NaN           None  "
      ]
     },
     "execution_count": 10,
     "metadata": {},
     "output_type": "execute_result"
    }
   ],
   "source": [
    "df.head()"
   ]
  },
  {
   "cell_type": "code",
   "execution_count": 9,
   "metadata": {},
   "outputs": [
    {
     "name": "stdout",
     "output_type": "stream",
     "text": [
      "<class 'pandas.core.frame.DataFrame'>\n",
      "RangeIndex: 54 entries, 0 to 53\n",
      "Data columns (total 8 columns):\n",
      " #   Column                 Non-Null Count  Dtype  \n",
      "---  ------                 --------------  -----  \n",
      " 0   marca                  50 non-null     object \n",
      " 1   nome                   54 non-null     object \n",
      " 2   preco_antigo_reais     54 non-null     float64\n",
      " 3   preco_antigo_centavos  54 non-null     int64  \n",
      " 4   preco_novo_reais       54 non-null     int64  \n",
      " 5   preco_novo_centavos    49 non-null     float64\n",
      " 6   reviews_rating_number  27 non-null     float64\n",
      " 7   reviews_amount         27 non-null     object \n",
      "dtypes: float64(3), int64(2), object(3)\n",
      "memory usage: 3.5+ KB\n"
     ]
    }
   ],
   "source": [
    "df.info()"
   ]
  },
  {
   "cell_type": "markdown",
   "metadata": {},
   "source": [
    "#### TRATANDO OS DADOS"
   ]
  },
  {
   "cell_type": "code",
   "execution_count": 12,
   "metadata": {},
   "outputs": [],
   "source": [
    "# Tratar os valores nulos para colunas numéricas e de texto\n",
    "df['preco_antigo_reais'] = df['preco_antigo_reais'].fillna(0).astype(float)\n",
    "df['preco_antigo_centavos'] = df['preco_antigo_centavos'].fillna(\n",
    "    0).astype(float)\n",
    "df['preco_novo_reais'] = df['preco_novo_reais'].fillna(0).astype(float)\n",
    "df['preco_novo_centavos'] = df['preco_novo_centavos'].fillna(0).astype(float)\n",
    "df['reviews_rating_number'] = df['reviews_rating_number'].fillna(\n",
    "    0).astype(float)"
   ]
  },
  {
   "cell_type": "code",
   "execution_count": 13,
   "metadata": {},
   "outputs": [
    {
     "name": "stdout",
     "output_type": "stream",
     "text": [
      "<class 'pandas.core.frame.DataFrame'>\n",
      "RangeIndex: 54 entries, 0 to 53\n",
      "Data columns (total 8 columns):\n",
      " #   Column                 Non-Null Count  Dtype  \n",
      "---  ------                 --------------  -----  \n",
      " 0   marca                  50 non-null     object \n",
      " 1   nome                   54 non-null     object \n",
      " 2   preco_antigo_reais     54 non-null     float64\n",
      " 3   preco_antigo_centavos  54 non-null     float64\n",
      " 4   preco_novo_reais       54 non-null     float64\n",
      " 5   preco_novo_centavos    54 non-null     float64\n",
      " 6   reviews_rating_number  54 non-null     float64\n",
      " 7   reviews_amount         27 non-null     object \n",
      "dtypes: float64(5), object(3)\n",
      "memory usage: 3.5+ KB\n"
     ]
    }
   ],
   "source": [
    "df.info()"
   ]
  },
  {
   "cell_type": "code",
   "execution_count": 14,
   "metadata": {},
   "outputs": [],
   "source": [
    "# Tratar os preços como floats e calcular os valores totais\n",
    "df['preco_antigo'] = df['preco_antigo_reais'] + \\\n",
    "    df['preco_antigo_centavos'] / 100\n",
    "df['preco_novo'] = df['preco_novo_reais'] + df['preco_novo_centavos'] / 100"
   ]
  },
  {
   "cell_type": "code",
   "execution_count": 15,
   "metadata": {},
   "outputs": [
    {
     "name": "stderr",
     "output_type": "stream",
     "text": [
      "<>:2: SyntaxWarning: invalid escape sequence '\\('\n",
      "<>:2: SyntaxWarning: invalid escape sequence '\\('\n",
      "C:\\Users\\marco\\AppData\\Local\\Temp\\ipykernel_8452\\308019279.py:2: SyntaxWarning: invalid escape sequence '\\('\n",
      "  df['reviews_amount'] = df['reviews_amount'].str.replace('[\\(\\)]', '', regex=True)\n"
     ]
    }
   ],
   "source": [
    "# Remover os parênteses das colunas `reviews_amount`\n",
    "df['reviews_amount'] = df['reviews_amount'].str.replace(\n",
    "    '[\\(\\)]', '', regex=True)\n",
    "df['reviews_amount'] = df['reviews_amount'].fillna(0).astype(int)"
   ]
  },
  {
   "cell_type": "code",
   "execution_count": 16,
   "metadata": {},
   "outputs": [],
   "source": [
    "# Adicionar a coluna de origem dos dados\n",
    "df['fonte'] = \"https://lista.mercadolivre.com.br/tenis-corrida-masculino\""
   ]
  },
  {
   "cell_type": "code",
   "execution_count": 17,
   "metadata": {},
   "outputs": [],
   "source": [
    "# Adicionar a coluna _data_coleta com a data e hora atuais\n",
    "df['data_coleta'] = datetime.now()"
   ]
  },
  {
   "cell_type": "code",
   "execution_count": 21,
   "metadata": {},
   "outputs": [
    {
     "name": "stdout",
     "output_type": "stream",
     "text": [
      "<class 'pandas.core.frame.DataFrame'>\n",
      "RangeIndex: 54 entries, 0 to 53\n",
      "Data columns (total 12 columns):\n",
      " #   Column                 Non-Null Count  Dtype         \n",
      "---  ------                 --------------  -----         \n",
      " 0   marca                  50 non-null     object        \n",
      " 1   nome                   54 non-null     object        \n",
      " 2   preco_antigo_reais     54 non-null     float64       \n",
      " 3   preco_antigo_centavos  54 non-null     float64       \n",
      " 4   preco_novo_reais       54 non-null     float64       \n",
      " 5   preco_novo_centavos    54 non-null     float64       \n",
      " 6   reviews_rating_number  54 non-null     float64       \n",
      " 7   reviews_amount         54 non-null     int32         \n",
      " 8   preco_antigo           54 non-null     float64       \n",
      " 9   preco_novo             54 non-null     float64       \n",
      " 10  fonte                  54 non-null     object        \n",
      " 11  data_coleta            54 non-null     datetime64[us]\n",
      "dtypes: datetime64[us](1), float64(7), int32(1), object(3)\n",
      "memory usage: 5.0+ KB\n"
     ]
    }
   ],
   "source": [
    "df.info()"
   ]
  },
  {
   "cell_type": "code",
   "execution_count": 22,
   "metadata": {},
   "outputs": [],
   "source": [
    "# Remover as colunas antigas de preços\n",
    "df.drop(columns=['preco_antigo_reais', 'preco_antigo_centavos',\n",
    "        'preco_novo_reais', 'preco_novo_centavos'], inplace=True)"
   ]
  },
  {
   "cell_type": "markdown",
   "metadata": {},
   "source": [
    "#### SALVANDO NO BANCO DE DADOS"
   ]
  },
  {
   "cell_type": "code",
   "execution_count": 23,
   "metadata": {},
   "outputs": [],
   "source": [
    "# Conectar ao banco de dados SQLite (ou criar um novo)\n",
    "conn = sqlite3.connect(\n",
    "    r'C:\\Users\\marco\\OneDrive\\Documentos\\Projetos\\Python\\Web Scraping - Mercado Livre\\coleta\\..dados\\bd.db')"
   ]
  },
  {
   "cell_type": "code",
   "execution_count": 24,
   "metadata": {},
   "outputs": [
    {
     "data": {
      "text/plain": [
       "54"
      ]
     },
     "execution_count": 24,
     "metadata": {},
     "output_type": "execute_result"
    }
   ],
   "source": [
    "# Salvar o DataFrame no banco de dados SQLite\n",
    "df.to_sql('mercadolivre_items', conn, if_exists='replace', index=False)"
   ]
  },
  {
   "cell_type": "code",
   "execution_count": 25,
   "metadata": {},
   "outputs": [],
   "source": [
    "# Fechar a conexão com o banco de dados\n",
    "conn.close()"
   ]
  }
 ],
 "metadata": {
  "kernelspec": {
   "display_name": ".venv",
   "language": "python",
   "name": "python3"
  },
  "language_info": {
   "codemirror_mode": {
    "name": "ipython",
    "version": 3
   },
   "file_extension": ".py",
   "mimetype": "text/x-python",
   "name": "python",
   "nbconvert_exporter": "python",
   "pygments_lexer": "ipython3",
   "version": "3.12.3"
  }
 },
 "nbformat": 4,
 "nbformat_minor": 2
}
